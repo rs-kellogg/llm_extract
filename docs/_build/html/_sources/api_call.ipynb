{
 "cells": [
  {
   "cell_type": "markdown",
   "id": "02ddecdc",
   "metadata": {
    "slideshow": {
     "slide_type": "slide"
    }
   },
   "source": [
    "# API Calls to LLMs\n",
    "\n",
    "### *<span style=\"color:purple\"><em>API Call Basics</em></span>*\n",
    "\n",
    ":::{admonition} Anatomy of an API Call\n",
    "\n",
    "![Slide Image](images/api_call.png)"
   ]
  },
  {
   "cell_type": "markdown",
   "id": "5635ab4c",
   "metadata": {
    "slideshow": {
     "slide_type": "slide"
    }
   },
   "source": [
    "#### Set Token\n",
    ":::{admonition} Setting up an API Token\n",
    "\n",
    "![Slide Image](images/token.png)"
   ]
  },
  {
   "cell_type": "markdown",
   "id": "ea6fe8d1",
   "metadata": {
    "slideshow": {
     "slide_type": "slide"
    }
   },
   "source": [
    "#### Call API\n",
    ":::{admonition} Submit Prompt to LLM\n",
    "\n",
    "![Slide Image](images/call.png)\n"
   ]
  },
  {
   "cell_type": "markdown",
   "id": "6911d096",
   "metadata": {
    "vscode": {
     "languageId": "plaintext"
    }
   },
   "source": []
  }
 ],
 "metadata": {
  "language_info": {
   "name": "python"
  }
 },
 "nbformat": 4,
 "nbformat_minor": 5
}
