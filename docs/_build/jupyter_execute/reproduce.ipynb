{
 "cells": [
  {
   "cell_type": "markdown",
   "id": "02ddecdc",
   "metadata": {
    "slideshow": {
     "slide_type": "slide"
    }
   },
   "source": [
    "### Reproducibility Advice\n",
    "\n",
    "#### *<span style=\"color:purple\"><em>Key Points</em></span>*\n",
    "\n",
    ":::{admonition} Key Points\n",
    "\n",
    "- Prompt and Model Versioning\n",
    "\n",
    "- Set Parameters to Avoid Drift\n",
    "  - temperature\n",
    "  - top_p\n",
    "  - set seed\n",
    "\n",
    "- Track / Log Results\n",
    "  - progress tracker file\n"
   ]
  },
  {
   "cell_type": "markdown",
   "id": "5635ab4c",
   "metadata": {
    "slideshow": {
     "slide_type": "slide"
    }
   },
   "source": [
    "#### Sample Code\n",
    ":::{admonition} Reproducibility Sample Code\n",
    "\n",
    "Examples of the reproducibility tips will be found in the same code here.\n",
    "\n",
    "[Gemini Sample Code](../code/reproduce_tips/gemini_reproduce.py)\n",
    "\n",
    "[GPT Sample Code](../code/reproduce_tips/gpt_reproduce.py)\n"
   ]
  },
  {
   "cell_type": "markdown",
   "id": "820474ae",
   "metadata": {},
   "source": [
    "#### Prompt, Model Versioning\n",
    ":::{admonition} Prompt and Model Versioning - An Iterative Process\n",
    "\n",
    "![Slide Image](images/model_prompt.png)\n",
    "\n",
    "- **Sensitivity**: LLMs are highly sensitive to prompt variations. Even minor changes in wording, formatting (e.g., spacing), or selecting a different model version can lead to significantly different outputs.\n",
    "\n",
    "- **Experimentation**: Systematically test and iterate on your prompts and model choices.\n",
    "\n",
    "- **Reproducibility**: Always version control your prompts and associated code using tools like Git or a log file.\n"
   ]
  },
  {
   "cell_type": "markdown",
   "id": "f954fd02",
   "metadata": {},
   "source": [
    "#### Parameter Settings\n",
    ":::{admonition} Setting Parameters to Avoid Drift\n",
    "\n",
    "![Slide Image](images/set.png)\n",
    "\n",
    "- **Control Parameters to Avoid Drift** – *Drift* refers to unintentional changes in model outputs caused by small prompt edits, parameter changes, or updates to the underlying model.\n",
    "\n",
    "  - **temperature** – Controls randomness in the model's responses. Lower values (e.g., 0 or 0.1) make output more deterministic and repeatable.  \n",
    "    → Set with: `temperature=0`\n",
    "\n",
    "  - **top_p** (*nucleus sampling*) – Limits the probability mass from which tokens are sampled. A lower value narrows possible outputs while a higher considers all options.  \n",
    "    → Set with: `top_p=0.0` for more deterministic output\n",
    "\n",
    "  - **seed** – Ensures repeatable outputs by fixing the model’s internal random choices. Not supported in Gemini (as of now), but available in OpenAI's API.  \n",
    "    → Set with OpenAI using: `seed=42` (or any integer) inside the API call\n",
    "\n",
    "- **Reproducibility** – Version control parameter choices either by saving runs of your code in Git or preserving settings in a log file.\n",
    "\n",
    "\n"
   ]
  },
  {
   "cell_type": "markdown",
   "id": "4a08256e",
   "metadata": {},
   "source": [
    "#### Log File\n",
    ":::{admonition} Track All Fields with a Log File\n",
    "\n",
    "![Slide Image](images/log.png)\n",
    "\n",
    "- **Progress Tracker or Log File** – Use logs not just for intermediate output, but to keep track of your full experimental context:\n",
    "  - Parameter selections (e.g., `temperature`, `top_p`, `seed`)\n",
    "  - Model names and versions\n",
    "  - Prompts, Responses, date/time of runs\n",
    "\n",
    "- *KLC Tip*: Logging makes it easy to seamlessly restart runs on KLC if your code is interrupted, without losing context.\n"
   ]
  },
  {
   "cell_type": "markdown",
   "id": "69dfb486",
   "metadata": {},
   "source": [
    "#### Lab 2\n",
    ":::{admonition} Lab 2 - Example\n",
    "\n",
    "![Slide Image](images/lab2.png)"
   ]
  },
  {
   "cell_type": "markdown",
   "id": "684b6d82",
   "metadata": {},
   "source": [
    ":::{admonition} Lab 2 - Text Inputs\n",
    "\n",
    "1. Use the sample code we provided as a starting point and write a script that iterates over these emails to identify any messages that indicate nefarious activities.\n",
    "\n",
    "2. Test a few prompts and adjust your parameter settings\n",
    "\n",
    "3. Save a log file of your results\n",
    "\n",
    "4. CHALLENGE - Are there any additional steps you would take for reproducibility?\n"
   ]
  },
  {
   "cell_type": "markdown",
   "id": "479dc174",
   "metadata": {},
   "source": [
    "#### Lab 3\n",
    ":::{admonition} Lab 3 - Example\n",
    "\n",
    "![Slide Image](images/lab3.png)"
   ]
  },
  {
   "cell_type": "markdown",
   "id": "44d7db07",
   "metadata": {},
   "source": [
    ":::{admonition} Lab 3 - Image Inputs\n",
    "\n",
    "1. Use the sample code we provided as a starting point and write a script that iterates over the images in either of these directories determining whether the image contains a violent action.\n",
    "\n",
    "2. Test a few prompts and adjust your parameter settings\n",
    "\n",
    "3. Save a log file of your results\n",
    "\n",
    "4. CHALLENGE - Are there any additional steps you would take for reproducibility?"
   ]
  }
 ],
 "metadata": {
  "kernelspec": {
   "display_name": "base",
   "language": "python",
   "name": "python3"
  },
  "language_info": {
   "name": "python",
   "version": "3.11.0"
  }
 },
 "nbformat": 4,
 "nbformat_minor": 5
}