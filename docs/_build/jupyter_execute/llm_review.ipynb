{
 "cells": [
  {
   "cell_type": "markdown",
   "id": "cd94e163",
   "metadata": {
    "slideshow": {
     "slide_type": "slide"
    }
   },
   "source": [
    "## LLM Review\n",
    "### *<span style=\"color:purple\"><em>Two Truths and a Lie - LLM Edition</em></span>*"
   ]
  },
  {
   "cell_type": "markdown",
   "id": "ad97164a",
   "metadata": {
    "slideshow": {
     "slide_type": "slide"
    }
   },
   "source": [
    "\n",
    "#### Definition\n",
    ":::{admonition} What are LLMs?\n",
    "\n",
    "Large Language Models (LLMs) are:\n",
    "- databases that retrieve facts from training data using structured memory.\n",
    "- advanced AI systems trained on massive text datasets to understand, generate, and process human language.\n",
    "- probabilistic models that generate language by predicting the most likely next token (“or think word”) based on the input they've received."
   ]
  },
  {
   "cell_type": "markdown",
   "id": "abd556f0",
   "metadata": {
    "slideshow": {
     "slide_type": "slide"
    }
   },
   "source": [
    "#### Uses\n",
    ":::{admonition} {How can we use LLMs?}\n",
    "\n",
    "In research, we leverage LLMs to:\n",
    "- automate data or information extraction or perform sophisticated qualitative analysis on vast unstructured datasets, often replacing work previously done by RAs and accelerating the research pipeline\n",
    "- disambiguate complex or ambiguous prompt instructions by drawing on the LLM's inherent contextual understanding\n",
    "- generate synthetic survey responses or impute missing data points for attrition\n"
   ]
  },
  {
   "cell_type": "markdown",
   "id": "65c90a48",
   "metadata": {
    "slideshow": {
     "slide_type": "slide"
    }
   },
   "source": [
    "#### Right Practices\n",
    ":::{admonition} What can LLMs do with the right practices?\n",
    "\n",
    "When using Gemini/GPT (or other proprietary models) with the right practices, settings, and logs, you can:\n",
    "- replicate the exact same results every time\n",
    "- avoid hallucinations and produce usable results\n",
    "- run the exact same LLM version years later\n",
    "\n"
   ]
  },
  {
   "cell_type": "markdown",
   "id": "456ba2cc",
   "metadata": {
    "slideshow": {
     "slide_type": "slide"
    }
   },
   "source": [
    "#### Poll\n",
    "\n",
    ":::{admonition} Poll\n",
    "\n",
    "(Show of hands) I have used LLMs:\n",
    "- Programmatically through API calls.\n",
    "- Often, I had my own token prior to this workshop.\n",
    "- Surreptitiously to answer the questions you are asking today!\n",
    ":::"
   ]
  },
  {
   "cell_type": "markdown",
   "id": "d0cc5890",
   "metadata": {},
   "source": [
    "#### LLM Comparison\n",
    "\n",
    ":::{admonition} When do you use one LLM over another?\n",
    "\n",
    "![Slide Image](images/llm_compare.png)\n"
   ]
  }
 ],
 "metadata": {
  "language_info": {
   "name": "python"
  }
 },
 "nbformat": 4,
 "nbformat_minor": 5
}